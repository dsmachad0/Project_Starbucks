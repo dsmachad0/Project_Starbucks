{
    "metadata": {
        "kernelspec": {
            "name": "SQL",
            "display_name": "SQL",
            "language": "sql"
        },
        "language_info": {
            "name": "sql",
            "version": ""
        }
    },
    "nbformat_minor": 2,
    "nbformat": 4,
    "cells": [
        {
            "cell_type": "markdown",
            "source": [
                "# Hotel Booking Demand Data Analysis"
            ],
            "metadata": {
                "azdata_cell_guid": "4548bc51-d28a-4dae-8694-3f75f884f93d"
            },
            "attachments": {}
        },
        {
            "cell_type": "markdown",
            "source": [
                "It is vacation time! And today we are using SQL in addition to Python to see some characteristics of the demand of our hotels. Using the “Hotel Booking Demand” dataset, we will compare the guests’ choices of a city hotel and a resort hotel and answer some questions. \n",
                "\n",
                "-  What is the high season for each hotel?\n",
                "- What is the monthly average number of guests?\n",
                "- What is the best time of the year to book a hotel room?\n",
                "- What is the average number of days booked in each hotel?\n",
                "\n",
                "Finally, we will make a prediction of the booking demand for the next few years. Let’s start!"
            ],
            "metadata": {
                "azdata_cell_guid": "2037cf1b-e1c1-4d7c-a264-804e4e4ab01e"
            },
            "attachments": {}
        },
        {
            "cell_type": "markdown",
            "source": [
                "## 1\\. Exploring our data.\n",
                "\n",
                "First, let's take a glance at our dataset and see what kind of information it has available to us. Our database is relatively large, with 119.390 rows, so we will be grouping according to hotel type that we will be comparing."
            ],
            "metadata": {
                "azdata_cell_guid": "d2fc21ec-c44c-447b-b394-116635f7ce9b"
            },
            "attachments": {}
        },
        {
            "cell_type": "code",
            "source": [
                "-- Selecting top 5 rows of all columns\r\n",
                "SELECT TOP(5) *\r\n",
                "FROM Projects.dbo.hotel_bookings"
            ],
            "metadata": {
                "azdata_cell_guid": "030d0565-013b-452c-b128-d3b8835c4ebd"
            },
            "outputs": [
                {
                    "output_type": "display_data",
                    "data": {
                        "text/html": "(5 rows affected)"
                    },
                    "metadata": {}
                },
                {
                    "output_type": "display_data",
                    "data": {
                        "text/html": "Total execution time: 00:00:00.019"
                    },
                    "metadata": {}
                },
                {
                    "output_type": "execute_result",
                    "metadata": {},
                    "execution_count": 1,
                    "data": {
                        "application/vnd.dataresource+json": {
                            "schema": {
                                "fields": [
                                    {
                                        "name": "hotel"
                                    },
                                    {
                                        "name": "is_canceled"
                                    },
                                    {
                                        "name": "lead_time"
                                    },
                                    {
                                        "name": "arrival_date_year"
                                    },
                                    {
                                        "name": "arrival_date_month"
                                    },
                                    {
                                        "name": "arrival_date_week_number"
                                    },
                                    {
                                        "name": "arrival_date_day_of_month"
                                    },
                                    {
                                        "name": "stays_in_weekend_nights"
                                    },
                                    {
                                        "name": "stays_in_week_nights"
                                    },
                                    {
                                        "name": "adults"
                                    },
                                    {
                                        "name": "children"
                                    },
                                    {
                                        "name": "babies"
                                    },
                                    {
                                        "name": "meal"
                                    },
                                    {
                                        "name": "country"
                                    },
                                    {
                                        "name": "market_segment"
                                    },
                                    {
                                        "name": "distribution_channel"
                                    },
                                    {
                                        "name": "is_repeated_guest"
                                    },
                                    {
                                        "name": "previous_cancellations"
                                    },
                                    {
                                        "name": "previous_bookings_not_canceled"
                                    },
                                    {
                                        "name": "reserved_room_type"
                                    },
                                    {
                                        "name": "assigned_room_type"
                                    },
                                    {
                                        "name": "booking_changes"
                                    },
                                    {
                                        "name": "deposit_type"
                                    },
                                    {
                                        "name": "agent"
                                    },
                                    {
                                        "name": "company"
                                    },
                                    {
                                        "name": "days_in_waiting_list"
                                    },
                                    {
                                        "name": "customer_type"
                                    },
                                    {
                                        "name": "adr"
                                    },
                                    {
                                        "name": "required_car_parking_spaces"
                                    },
                                    {
                                        "name": "total_of_special_requests"
                                    },
                                    {
                                        "name": "reservation_status"
                                    },
                                    {
                                        "name": "reservation_status_date"
                                    }
                                ]
                            },
                            "data": [
                                {
                                    "0": "Resort Hotel",
                                    "1": "0",
                                    "2": "342",
                                    "3": "2015",
                                    "4": "July",
                                    "5": "27",
                                    "6": "1",
                                    "7": "0",
                                    "8": "0",
                                    "9": "2",
                                    "10": "0",
                                    "11": "0",
                                    "12": "BB",
                                    "13": "PRT",
                                    "14": "Direct",
                                    "15": "Direct",
                                    "16": "0",
                                    "17": "0",
                                    "18": "0",
                                    "19": "C",
                                    "20": "C",
                                    "21": "3",
                                    "22": "No Deposit",
                                    "23": "NULL",
                                    "24": "NULL",
                                    "25": "0",
                                    "26": "Transient",
                                    "27": "0",
                                    "28": "0",
                                    "29": "0",
                                    "30": "Check-Out",
                                    "31": "7/1/2015"
                                },
                                {
                                    "0": "Resort Hotel",
                                    "1": "0",
                                    "2": "737",
                                    "3": "2015",
                                    "4": "July",
                                    "5": "27",
                                    "6": "1",
                                    "7": "0",
                                    "8": "0",
                                    "9": "2",
                                    "10": "0",
                                    "11": "0",
                                    "12": "BB",
                                    "13": "PRT",
                                    "14": "Direct",
                                    "15": "Direct",
                                    "16": "0",
                                    "17": "0",
                                    "18": "0",
                                    "19": "C",
                                    "20": "C",
                                    "21": "4",
                                    "22": "No Deposit",
                                    "23": "NULL",
                                    "24": "NULL",
                                    "25": "0",
                                    "26": "Transient",
                                    "27": "0",
                                    "28": "0",
                                    "29": "0",
                                    "30": "Check-Out",
                                    "31": "7/1/2015"
                                },
                                {
                                    "0": "Resort Hotel",
                                    "1": "0",
                                    "2": "7",
                                    "3": "2015",
                                    "4": "July",
                                    "5": "27",
                                    "6": "1",
                                    "7": "0",
                                    "8": "1",
                                    "9": "1",
                                    "10": "0",
                                    "11": "0",
                                    "12": "BB",
                                    "13": "GBR",
                                    "14": "Direct",
                                    "15": "Direct",
                                    "16": "0",
                                    "17": "0",
                                    "18": "0",
                                    "19": "A",
                                    "20": "C",
                                    "21": "0",
                                    "22": "No Deposit",
                                    "23": "NULL",
                                    "24": "NULL",
                                    "25": "0",
                                    "26": "Transient",
                                    "27": "75",
                                    "28": "0",
                                    "29": "0",
                                    "30": "Check-Out",
                                    "31": "7/2/2015"
                                },
                                {
                                    "0": "Resort Hotel",
                                    "1": "0",
                                    "2": "13",
                                    "3": "2015",
                                    "4": "July",
                                    "5": "27",
                                    "6": "1",
                                    "7": "0",
                                    "8": "1",
                                    "9": "1",
                                    "10": "0",
                                    "11": "0",
                                    "12": "BB",
                                    "13": "GBR",
                                    "14": "Corporate",
                                    "15": "Corporate",
                                    "16": "0",
                                    "17": "0",
                                    "18": "0",
                                    "19": "A",
                                    "20": "A",
                                    "21": "0",
                                    "22": "No Deposit",
                                    "23": "304",
                                    "24": "NULL",
                                    "25": "0",
                                    "26": "Transient",
                                    "27": "75",
                                    "28": "0",
                                    "29": "0",
                                    "30": "Check-Out",
                                    "31": "7/2/2015"
                                },
                                {
                                    "0": "Resort Hotel",
                                    "1": "0",
                                    "2": "14",
                                    "3": "2015",
                                    "4": "July",
                                    "5": "27",
                                    "6": "1",
                                    "7": "0",
                                    "8": "2",
                                    "9": "2",
                                    "10": "0",
                                    "11": "0",
                                    "12": "BB",
                                    "13": "GBR",
                                    "14": "Online TA",
                                    "15": "TA/TO",
                                    "16": "0",
                                    "17": "0",
                                    "18": "0",
                                    "19": "A",
                                    "20": "A",
                                    "21": "0",
                                    "22": "No Deposit",
                                    "23": "240",
                                    "24": "NULL",
                                    "25": "0",
                                    "26": "Transient",
                                    "27": "98",
                                    "28": "0",
                                    "29": "1",
                                    "30": "Check-Out",
                                    "31": "7/3/2015"
                                }
                            ]
                        },
                        "text/html": [
                            "<table>",
                            "<tr><th>hotel</th><th>is_canceled</th><th>lead_time</th><th>arrival_date_year</th><th>arrival_date_month</th><th>arrival_date_week_number</th><th>arrival_date_day_of_month</th><th>stays_in_weekend_nights</th><th>stays_in_week_nights</th><th>adults</th><th>children</th><th>babies</th><th>meal</th><th>country</th><th>market_segment</th><th>distribution_channel</th><th>is_repeated_guest</th><th>previous_cancellations</th><th>previous_bookings_not_canceled</th><th>reserved_room_type</th><th>assigned_room_type</th><th>booking_changes</th><th>deposit_type</th><th>agent</th><th>company</th><th>days_in_waiting_list</th><th>customer_type</th><th>adr</th><th>required_car_parking_spaces</th><th>total_of_special_requests</th><th>reservation_status</th><th>reservation_status_date</th></tr>",
                            "<tr><td>Resort Hotel</td><td>0</td><td>342</td><td>2015</td><td>July</td><td>27</td><td>1</td><td>0</td><td>0</td><td>2</td><td>0</td><td>0</td><td>BB</td><td>PRT</td><td>Direct</td><td>Direct</td><td>0</td><td>0</td><td>0</td><td>C</td><td>C</td><td>3</td><td>No Deposit</td><td>NULL</td><td>NULL</td><td>0</td><td>Transient</td><td>0</td><td>0</td><td>0</td><td>Check-Out</td><td>7/1/2015</td></tr>",
                            "<tr><td>Resort Hotel</td><td>0</td><td>737</td><td>2015</td><td>July</td><td>27</td><td>1</td><td>0</td><td>0</td><td>2</td><td>0</td><td>0</td><td>BB</td><td>PRT</td><td>Direct</td><td>Direct</td><td>0</td><td>0</td><td>0</td><td>C</td><td>C</td><td>4</td><td>No Deposit</td><td>NULL</td><td>NULL</td><td>0</td><td>Transient</td><td>0</td><td>0</td><td>0</td><td>Check-Out</td><td>7/1/2015</td></tr>",
                            "<tr><td>Resort Hotel</td><td>0</td><td>7</td><td>2015</td><td>July</td><td>27</td><td>1</td><td>0</td><td>1</td><td>1</td><td>0</td><td>0</td><td>BB</td><td>GBR</td><td>Direct</td><td>Direct</td><td>0</td><td>0</td><td>0</td><td>A</td><td>C</td><td>0</td><td>No Deposit</td><td>NULL</td><td>NULL</td><td>0</td><td>Transient</td><td>75</td><td>0</td><td>0</td><td>Check-Out</td><td>7/2/2015</td></tr>",
                            "<tr><td>Resort Hotel</td><td>0</td><td>13</td><td>2015</td><td>July</td><td>27</td><td>1</td><td>0</td><td>1</td><td>1</td><td>0</td><td>0</td><td>BB</td><td>GBR</td><td>Corporate</td><td>Corporate</td><td>0</td><td>0</td><td>0</td><td>A</td><td>A</td><td>0</td><td>No Deposit</td><td>304</td><td>NULL</td><td>0</td><td>Transient</td><td>75</td><td>0</td><td>0</td><td>Check-Out</td><td>7/2/2015</td></tr>",
                            "<tr><td>Resort Hotel</td><td>0</td><td>14</td><td>2015</td><td>July</td><td>27</td><td>1</td><td>0</td><td>2</td><td>2</td><td>0</td><td>0</td><td>BB</td><td>GBR</td><td>Online TA</td><td>TA/TO</td><td>0</td><td>0</td><td>0</td><td>A</td><td>A</td><td>0</td><td>No Deposit</td><td>240</td><td>NULL</td><td>0</td><td>Transient</td><td>98</td><td>0</td><td>1</td><td>Check-Out</td><td>7/3/2015</td></tr>",
                            "</table>"
                        ]
                    }
                }
            ],
            "execution_count": 1
        }
    ]
}